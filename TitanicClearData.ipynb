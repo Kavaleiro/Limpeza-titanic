{
 "cells": [
  {
   "cell_type": "code",
   "execution_count": null,
   "id": "f5d54c39-d47e-4a63-ada9-47e611848977",
   "metadata": {},
   "outputs": [],
   "source": [
    "import pandas as pd\n",
    "import matplotlib.pyplot as plt\n",
    "import matplotlib\n",
    "import seaborn as sns"
   ]
  },
  {
   "cell_type": "code",
   "execution_count": null,
   "id": "a4eeb8b8-2379-42ab-a419-9de55fb4848e",
   "metadata": {},
   "outputs": [],
   "source": [
    "%matplotlib inline"
   ]
  },
  {
   "cell_type": "code",
   "execution_count": null,
   "id": "1a9f6f19-b7b6-4434-b8b3-f1978692e9cf",
   "metadata": {},
   "outputs": [],
   "source": [
    "dados = pd.read_csv('tested.csv', sep=',', encoding='latin-1', on_bad_lines='skip')"
   ]
  },
  {
   "cell_type": "markdown",
   "id": "f164c678-885f-4caf-a1ba-a846f894d620",
   "metadata": {},
   "source": [
    "### Verficando se os dados estão formatados corretamente\n"
   ]
  },
  {
   "cell_type": "code",
   "execution_count": 116,
   "id": "ee2da954-0962-450a-b1fd-9bc30eb4501b",
   "metadata": {},
   "outputs": [
    {
     "data": {
      "text/html": [
       "<div>\n",
       "<style scoped>\n",
       "    .dataframe tbody tr th:only-of-type {\n",
       "        vertical-align: middle;\n",
       "    }\n",
       "\n",
       "    .dataframe tbody tr th {\n",
       "        vertical-align: top;\n",
       "    }\n",
       "\n",
       "    .dataframe thead th {\n",
       "        text-align: right;\n",
       "    }\n",
       "</style>\n",
       "<table border=\"1\" class=\"dataframe\">\n",
       "  <thead>\n",
       "    <tr style=\"text-align: right;\">\n",
       "      <th></th>\n",
       "      <th>Passageiro-ID</th>\n",
       "      <th>Sobrevivente</th>\n",
       "      <th>Classe</th>\n",
       "      <th>Nome</th>\n",
       "      <th>Sexo</th>\n",
       "      <th>Idade</th>\n",
       "      <th>Parentes</th>\n",
       "      <th>Pais/filhos</th>\n",
       "      <th>NBilhete</th>\n",
       "      <th>ValorTarifa</th>\n",
       "      <th>Cabine</th>\n",
       "      <th>Embarque</th>\n",
       "    </tr>\n",
       "  </thead>\n",
       "  <tbody>\n",
       "    <tr>\n",
       "      <th>0</th>\n",
       "      <td>892</td>\n",
       "      <td>0</td>\n",
       "      <td>3</td>\n",
       "      <td>Kelly, Mr. James</td>\n",
       "      <td>male</td>\n",
       "      <td>34.5</td>\n",
       "      <td>0</td>\n",
       "      <td>0</td>\n",
       "      <td>330911</td>\n",
       "      <td>7.8292</td>\n",
       "      <td>NaN</td>\n",
       "      <td>Q</td>\n",
       "    </tr>\n",
       "    <tr>\n",
       "      <th>1</th>\n",
       "      <td>893</td>\n",
       "      <td>1</td>\n",
       "      <td>3</td>\n",
       "      <td>Wilkes, Mrs. James (Ellen Needs)</td>\n",
       "      <td>female</td>\n",
       "      <td>47.0</td>\n",
       "      <td>1</td>\n",
       "      <td>0</td>\n",
       "      <td>363272</td>\n",
       "      <td>7.0000</td>\n",
       "      <td>NaN</td>\n",
       "      <td>S</td>\n",
       "    </tr>\n",
       "    <tr>\n",
       "      <th>2</th>\n",
       "      <td>894</td>\n",
       "      <td>0</td>\n",
       "      <td>2</td>\n",
       "      <td>Myles, Mr. Thomas Francis</td>\n",
       "      <td>male</td>\n",
       "      <td>62.0</td>\n",
       "      <td>0</td>\n",
       "      <td>0</td>\n",
       "      <td>240276</td>\n",
       "      <td>9.6875</td>\n",
       "      <td>NaN</td>\n",
       "      <td>Q</td>\n",
       "    </tr>\n",
       "    <tr>\n",
       "      <th>3</th>\n",
       "      <td>895</td>\n",
       "      <td>0</td>\n",
       "      <td>3</td>\n",
       "      <td>Wirz, Mr. Albert</td>\n",
       "      <td>male</td>\n",
       "      <td>27.0</td>\n",
       "      <td>0</td>\n",
       "      <td>0</td>\n",
       "      <td>315154</td>\n",
       "      <td>8.6625</td>\n",
       "      <td>NaN</td>\n",
       "      <td>S</td>\n",
       "    </tr>\n",
       "    <tr>\n",
       "      <th>4</th>\n",
       "      <td>896</td>\n",
       "      <td>1</td>\n",
       "      <td>3</td>\n",
       "      <td>Hirvonen, Mrs. Alexander (Helga E Lindqvist)</td>\n",
       "      <td>female</td>\n",
       "      <td>22.0</td>\n",
       "      <td>1</td>\n",
       "      <td>1</td>\n",
       "      <td>3101298</td>\n",
       "      <td>12.2875</td>\n",
       "      <td>NaN</td>\n",
       "      <td>S</td>\n",
       "    </tr>\n",
       "  </tbody>\n",
       "</table>\n",
       "</div>"
      ],
      "text/plain": [
       "   Passageiro-ID  Sobrevivente  Classe  \\\n",
       "0            892             0       3   \n",
       "1            893             1       3   \n",
       "2            894             0       2   \n",
       "3            895             0       3   \n",
       "4            896             1       3   \n",
       "\n",
       "                                           Nome    Sexo  Idade  Parentes  \\\n",
       "0                              Kelly, Mr. James    male   34.5         0   \n",
       "1              Wilkes, Mrs. James (Ellen Needs)  female   47.0         1   \n",
       "2                     Myles, Mr. Thomas Francis    male   62.0         0   \n",
       "3                              Wirz, Mr. Albert    male   27.0         0   \n",
       "4  Hirvonen, Mrs. Alexander (Helga E Lindqvist)  female   22.0         1   \n",
       "\n",
       "   Pais/filhos NBilhete  ValorTarifa Cabine Embarque  \n",
       "0            0   330911       7.8292    NaN        Q  \n",
       "1            0   363272       7.0000    NaN        S  \n",
       "2            0   240276       9.6875    NaN        Q  \n",
       "3            0   315154       8.6625    NaN        S  \n",
       "4            1  3101298      12.2875    NaN        S  "
      ]
     },
     "execution_count": 116,
     "metadata": {},
     "output_type": "execute_result"
    }
   ],
   "source": [
    "#Verificando as 5 primeiras linhas\n",
    "dados.head()"
   ]
  },
  {
   "cell_type": "code",
   "execution_count": 117,
   "id": "ca686250-4f8c-44ef-a39f-b60332aad7b7",
   "metadata": {},
   "outputs": [
    {
     "data": {
      "text/plain": [
       "(418, 12)"
      ]
     },
     "execution_count": 117,
     "metadata": {},
     "output_type": "execute_result"
    }
   ],
   "source": [
    "#Verificando se as linhas e colunas estão corretas\n",
    "dados.shape"
   ]
  },
  {
   "cell_type": "code",
   "execution_count": 118,
   "id": "9d65908a-c4fc-4ee7-9dbd-b51089a1da3f",
   "metadata": {},
   "outputs": [
    {
     "data": {
      "text/plain": [
       "Index(['Passageiro-ID', 'Sobrevivente', 'Classe', 'Nome', 'Sexo', 'Idade',\n",
       "       'Parentes', 'Pais/filhos', 'NBilhete', 'ValorTarifa', 'Cabine',\n",
       "       'Embarque'],\n",
       "      dtype='object')"
      ]
     },
     "execution_count": 118,
     "metadata": {},
     "output_type": "execute_result"
    }
   ],
   "source": [
    "#Verificando os nomes das colunas \n",
    "dados.columns"
   ]
  },
  {
   "cell_type": "code",
   "execution_count": 119,
   "id": "0f52a362-7bc8-4626-a4e3-d234aa2a6276",
   "metadata": {},
   "outputs": [
    {
     "data": {
      "text/html": [
       "<div>\n",
       "<style scoped>\n",
       "    .dataframe tbody tr th:only-of-type {\n",
       "        vertical-align: middle;\n",
       "    }\n",
       "\n",
       "    .dataframe tbody tr th {\n",
       "        vertical-align: top;\n",
       "    }\n",
       "\n",
       "    .dataframe thead th {\n",
       "        text-align: right;\n",
       "    }\n",
       "</style>\n",
       "<table border=\"1\" class=\"dataframe\">\n",
       "  <thead>\n",
       "    <tr style=\"text-align: right;\">\n",
       "      <th></th>\n",
       "      <th>Passageiro-ID</th>\n",
       "      <th>Sobrevivente</th>\n",
       "      <th>Classe</th>\n",
       "      <th>Idade</th>\n",
       "      <th>Parentes</th>\n",
       "      <th>Pais/filhos</th>\n",
       "      <th>ValorTarifa</th>\n",
       "    </tr>\n",
       "  </thead>\n",
       "  <tbody>\n",
       "    <tr>\n",
       "      <th>count</th>\n",
       "      <td>418.000000</td>\n",
       "      <td>418.000000</td>\n",
       "      <td>418.000000</td>\n",
       "      <td>332.000000</td>\n",
       "      <td>418.000000</td>\n",
       "      <td>418.000000</td>\n",
       "      <td>417.000000</td>\n",
       "    </tr>\n",
       "    <tr>\n",
       "      <th>mean</th>\n",
       "      <td>1100.500000</td>\n",
       "      <td>0.363636</td>\n",
       "      <td>2.265550</td>\n",
       "      <td>30.272590</td>\n",
       "      <td>0.447368</td>\n",
       "      <td>0.392344</td>\n",
       "      <td>35.627188</td>\n",
       "    </tr>\n",
       "    <tr>\n",
       "      <th>std</th>\n",
       "      <td>120.810458</td>\n",
       "      <td>0.481622</td>\n",
       "      <td>0.841838</td>\n",
       "      <td>14.181209</td>\n",
       "      <td>0.896760</td>\n",
       "      <td>0.981429</td>\n",
       "      <td>55.907576</td>\n",
       "    </tr>\n",
       "    <tr>\n",
       "      <th>min</th>\n",
       "      <td>892.000000</td>\n",
       "      <td>0.000000</td>\n",
       "      <td>1.000000</td>\n",
       "      <td>0.170000</td>\n",
       "      <td>0.000000</td>\n",
       "      <td>0.000000</td>\n",
       "      <td>0.000000</td>\n",
       "    </tr>\n",
       "    <tr>\n",
       "      <th>25%</th>\n",
       "      <td>996.250000</td>\n",
       "      <td>0.000000</td>\n",
       "      <td>1.000000</td>\n",
       "      <td>21.000000</td>\n",
       "      <td>0.000000</td>\n",
       "      <td>0.000000</td>\n",
       "      <td>7.895800</td>\n",
       "    </tr>\n",
       "    <tr>\n",
       "      <th>50%</th>\n",
       "      <td>1100.500000</td>\n",
       "      <td>0.000000</td>\n",
       "      <td>3.000000</td>\n",
       "      <td>27.000000</td>\n",
       "      <td>0.000000</td>\n",
       "      <td>0.000000</td>\n",
       "      <td>14.454200</td>\n",
       "    </tr>\n",
       "    <tr>\n",
       "      <th>75%</th>\n",
       "      <td>1204.750000</td>\n",
       "      <td>1.000000</td>\n",
       "      <td>3.000000</td>\n",
       "      <td>39.000000</td>\n",
       "      <td>1.000000</td>\n",
       "      <td>0.000000</td>\n",
       "      <td>31.500000</td>\n",
       "    </tr>\n",
       "    <tr>\n",
       "      <th>max</th>\n",
       "      <td>1309.000000</td>\n",
       "      <td>1.000000</td>\n",
       "      <td>3.000000</td>\n",
       "      <td>76.000000</td>\n",
       "      <td>8.000000</td>\n",
       "      <td>9.000000</td>\n",
       "      <td>512.329200</td>\n",
       "    </tr>\n",
       "  </tbody>\n",
       "</table>\n",
       "</div>"
      ],
      "text/plain": [
       "       Passageiro-ID  Sobrevivente      Classe       Idade    Parentes  \\\n",
       "count     418.000000    418.000000  418.000000  332.000000  418.000000   \n",
       "mean     1100.500000      0.363636    2.265550   30.272590    0.447368   \n",
       "std       120.810458      0.481622    0.841838   14.181209    0.896760   \n",
       "min       892.000000      0.000000    1.000000    0.170000    0.000000   \n",
       "25%       996.250000      0.000000    1.000000   21.000000    0.000000   \n",
       "50%      1100.500000      0.000000    3.000000   27.000000    0.000000   \n",
       "75%      1204.750000      1.000000    3.000000   39.000000    1.000000   \n",
       "max      1309.000000      1.000000    3.000000   76.000000    8.000000   \n",
       "\n",
       "       Pais/filhos  ValorTarifa  \n",
       "count   418.000000   417.000000  \n",
       "mean      0.392344    35.627188  \n",
       "std       0.981429    55.907576  \n",
       "min       0.000000     0.000000  \n",
       "25%       0.000000     7.895800  \n",
       "50%       0.000000    14.454200  \n",
       "75%       0.000000    31.500000  \n",
       "max       9.000000   512.329200  "
      ]
     },
     "execution_count": 119,
     "metadata": {},
     "output_type": "execute_result"
    }
   ],
   "source": [
    "#Resumo estatístico\n",
    "dados.describe()"
   ]
  },
  {
   "cell_type": "code",
   "execution_count": 120,
   "id": "0d0845ac-1202-4835-b200-15e248aee661",
   "metadata": {},
   "outputs": [
    {
     "data": {
      "text/plain": [
       "Passageiro-ID      0\n",
       "Sobrevivente       0\n",
       "Classe             0\n",
       "Nome               0\n",
       "Sexo               0\n",
       "Idade             86\n",
       "Parentes           0\n",
       "Pais/filhos        0\n",
       "NBilhete           0\n",
       "ValorTarifa        1\n",
       "Cabine           327\n",
       "Embarque           0\n",
       "dtype: int64"
      ]
     },
     "execution_count": 120,
     "metadata": {},
     "output_type": "execute_result"
    }
   ],
   "source": [
    "#Verificando valores nulos\n",
    "dados.isnull().sum()"
   ]
  },
  {
   "cell_type": "markdown",
   "id": "074b11a1-57f7-492a-a466-ca7d1d20dc14",
   "metadata": {},
   "source": [
    "##### Colocando um pequeno índice que irá ajudar na compreensão dos dados.\n"
   ]
  },
  {
   "cell_type": "markdown",
   "id": "3490f64b-c377-4d41-b1cf-63464dd3bdd8",
   "metadata": {},
   "source": [
    "-> PassengerId: um identificador único para cada passageiro.\n",
    "\n",
    "-> Survived: a resposta que queremos prever. 1 = sobreviveu, 0 = não sobreviveu.\n",
    "\n",
    "-> Pclass: identifica a classe do bilhete do passageiro. 1 = primeira classe, 2 = segunda classe, 3 = terceira classe. Esta variável \n",
    "tem grande relação com o status socioeconômico do passageiro. Primeira classe = alto, segunda classe = médio, terceira classe = baixo.\n",
    "\n",
    "-> Name: nome do passageiro.\n",
    "\n",
    "-> Sex: sexo do passageiro.\n",
    "\n",
    "-> Age: idade em anos. Se a idade do passageiro for menor que 1, então a idade terá um valor fracional (ex.: 0.75). Se a idade do passageiro for estimada, então ela terá o formato XX.5 (ex.: 35.5 para uma idade estimada de 35 anos).\n",
    "\n",
    "-> SibSp: quantidade de irmãos e cônjuges do passageiro que também estão abordo.\n",
    "\n",
    "-> Parch: quantidade de pais e filhos do passageiro que também estão abordo.\n",
    "\n",
    "-> Ticket: número do bilhete do passageiro.\n",
    "\n",
    "-> Fare: valor da tarifa paga pelo passageiro.\n",
    "\n",
    "-> Cabin: número da cabine do passageiro.\n",
    "\n",
    "-> Embarked: porto onde o passageiro embarcou. C = Cherbourg, Q = Queenstown, S = Southampton"
   ]
  },
  {
   "cell_type": "markdown",
   "id": "142ee434-429e-4491-84e3-2c110ead1ab1",
   "metadata": {},
   "source": [
    "### Formantando os dados"
   ]
  },
  {
   "cell_type": "code",
   "execution_count": null,
   "id": "6ad6268f-71c7-428f-a0cd-9f377e1997c3",
   "metadata": {},
   "outputs": [],
   "source": [
    "#Renomeando o nome das colunas\n",
    "dados = dados.rename(columns = {'PassengerId' :'Passageiro-ID' , 'Survived' : 'Sobrevivente', 'Pclass' :'Classe', 'Name' :'Nome',\n",
    "                                'Sex':'Sexo', 'Age':'Idade', 'SibSp':'Parentes', 'Parch':'Pais/filhos', 'Ticket':'NBilhete','Fare':'ValorTarifa',\n",
    "                                'Cabin':'Cabine', 'Embarked':'Embarque'})"
   ]
  },
  {
   "cell_type": "markdown",
   "id": "f7fd1615-797b-48ed-b761-78b82a3e8305",
   "metadata": {},
   "source": [
    "### Iniciando Limpeza dos dados \n"
   ]
  },
  {
   "cell_type": "markdown",
   "id": "205b7e6b-2df7-4b31-a736-ff02649bbc46",
   "metadata": {},
   "source": [
    "##### Começando por Idade"
   ]
  },
  {
   "cell_type": "code",
   "execution_count": 121,
   "id": "737e166b-59f0-4df9-b4de-458a709cefa6",
   "metadata": {},
   "outputs": [
    {
     "data": {
      "text/plain": [
       "count    332.000000\n",
       "mean      30.272590\n",
       "std       14.181209\n",
       "min        0.170000\n",
       "25%       21.000000\n",
       "50%       27.000000\n",
       "75%       39.000000\n",
       "max       76.000000\n",
       "Name: Idade, dtype: float64"
      ]
     },
     "execution_count": 121,
     "metadata": {},
     "output_type": "execute_result"
    }
   ],
   "source": [
    "dados['Idade'].describe()"
   ]
  },
  {
   "cell_type": "code",
   "execution_count": null,
   "id": "49f9bb7e-171b-4d10-b3f2-3c51593b4562",
   "metadata": {},
   "outputs": [],
   "source": [
    "#gráfico de boxplot(Feio)\n",
    "dfs.boxplot(column='Idade')"
   ]
  },
  {
   "cell_type": "code",
   "execution_count": null,
   "id": "7143b491-9dd7-4ab6-bf27-dd3f133ed418",
   "metadata": {},
   "outputs": [],
   "source": [
    "sns.displot(x=dfs['Idade'])"
   ]
  },
  {
   "cell_type": "code",
   "execution_count": 129,
   "id": "b866f86e-311a-4615-ae2f-e5afdee0dd8a",
   "metadata": {},
   "outputs": [
    {
     "data": {
      "text/plain": [
       "Text(0.5, 1.0, 'Idade')"
      ]
     },
     "execution_count": 129,
     "metadata": {},
     "output_type": "execute_result"
    },
    {
     "data": {
      "image/png": "[encoded data removed]",
      "text/plain": [
       "<Figure size 640x480 with 1 Axes>"
      ]
     },
     "metadata": {},
     "output_type": "display_data"
    }
   ],
   "source": [
    "#Verificando os BoxPlot de idade\n",
    "#gráfico de boxplot(bonito)\n",
    "sns.boxplot(y=dados['Idade']).set_title('Idade')"
   ]
  },
  {
   "cell_type": "code",
   "execution_count": 130,
   "id": "0914e2dd-16b5-4b92-927e-ca1f1b91ac92",
   "metadata": {},
   "outputs": [
    {
     "data": {
      "text/plain": [
       "np.float64(27.0)"
      ]
     },
     "execution_count": 130,
     "metadata": {},
     "output_type": "execute_result"
    }
   ],
   "source": [
    "#Verificando a mediana\n",
    "dados['Idade'].median()"
   ]
  },
  {
   "cell_type": "code",
   "execution_count": 141,
   "id": "39f2b9b2-ad93-4009-8e02-0806766ed918",
   "metadata": {},
   "outputs": [
    {
     "data": {
      "text/html": [
       "<div>\n",
       "<style scoped>\n",
       "    .dataframe tbody tr th:only-of-type {\n",
       "        vertical-align: middle;\n",
       "    }\n",
       "\n",
       "    .dataframe tbody tr th {\n",
       "        vertical-align: top;\n",
       "    }\n",
       "\n",
       "    .dataframe thead th {\n",
       "        text-align: right;\n",
       "    }\n",
       "</style>\n",
       "<table border=\"1\" class=\"dataframe\">\n",
       "  <thead>\n",
       "    <tr style=\"text-align: right;\">\n",
       "      <th></th>\n",
       "      <th>Classe</th>\n",
       "      <th>Sexo</th>\n",
       "      <th>Idade</th>\n",
       "    </tr>\n",
       "  </thead>\n",
       "  <tbody>\n",
       "    <tr>\n",
       "      <th>0</th>\n",
       "      <td>1</td>\n",
       "      <td>female</td>\n",
       "      <td>41.0</td>\n",
       "    </tr>\n",
       "    <tr>\n",
       "      <th>1</th>\n",
       "      <td>1</td>\n",
       "      <td>male</td>\n",
       "      <td>42.0</td>\n",
       "    </tr>\n",
       "    <tr>\n",
       "      <th>2</th>\n",
       "      <td>2</td>\n",
       "      <td>female</td>\n",
       "      <td>24.0</td>\n",
       "    </tr>\n",
       "    <tr>\n",
       "      <th>3</th>\n",
       "      <td>2</td>\n",
       "      <td>male</td>\n",
       "      <td>28.0</td>\n",
       "    </tr>\n",
       "    <tr>\n",
       "      <th>4</th>\n",
       "      <td>3</td>\n",
       "      <td>female</td>\n",
       "      <td>22.0</td>\n",
       "    </tr>\n",
       "    <tr>\n",
       "      <th>5</th>\n",
       "      <td>3</td>\n",
       "      <td>male</td>\n",
       "      <td>24.0</td>\n",
       "    </tr>\n",
       "  </tbody>\n",
       "</table>\n",
       "</div>"
      ],
      "text/plain": [
       "   Classe    Sexo  Idade\n",
       "0       1  female   41.0\n",
       "1       1    male   42.0\n",
       "2       2  female   24.0\n",
       "3       2    male   28.0\n",
       "4       3  female   22.0\n",
       "5       3    male   24.0"
      ]
     },
     "execution_count": 141,
     "metadata": {},
     "output_type": "execute_result"
    }
   ],
   "source": [
    "#Verificando a Mediana de idade por Classe e Sexo\n",
    "dados.groupby(['Classe', 'Sexo'], as_index=False)['Idade'].median()"
   ]
  },
  {
   "cell_type": "code",
   "execution_count": 142,
   "id": "b179761e-769b-4880-b363-dfb29bda248c",
   "metadata": {},
   "outputs": [
    {
     "data": {
      "image/png": "[encoded data removed]",
      "text/plain": [
       "<Figure size 640x480 with 1 Axes>"
      ]
     },
     "metadata": {},
     "output_type": "display_data"
    }
   ],
   "source": [
    "#Usando o gráfico de barras agrupado(Seaborn)\n",
    "sns.boxplot(x='Classe',y='Idade',hue='Sexo', data=dados)\n",
    "plt.title('Mediana de idade por Classe e Sexo')\n",
    "plt.show()\n"
   ]
  },
  {
   "cell_type": "code",
   "execution_count": 143,
   "id": "6ec0a1e2-2391-4ae2-abc3-21e566be7496",
   "metadata": {},
   "outputs": [],
   "source": [
    "#Substituindo os valores nulos pela idade e mediana\n",
    "dados['Idade'] = dados.groupby(['Classe', 'Sexo'])['Idade'].transform(lambda x: x.fillna(x.median()))"
   ]
  },
  {
   "cell_type": "code",
   "execution_count": null,
   "id": "5b77045f-c297-4b1e-a53e-acc457050a8d",
   "metadata": {},
   "outputs": [],
   "source": [
    "#Verificando se houve mudanças\n",
    "dados.isnull().sum()"
   ]
  },
  {
   "cell_type": "code",
   "execution_count": 164,
   "id": "7df9ee60-9809-4b41-9888-965f65bb4c74",
   "metadata": {},
   "outputs": [
    {
     "data": {
      "image/png": "[encoded data removed]",
      "text/plain": [
       "<Figure size 640x480 with 1 Axes>"
      ]
     },
     "metadata": {},
     "output_type": "display_data"
    }
   ],
   "source": [
    "#Usando o histograma de Idade\n",
    "plt.hist(dados['Idade'], bins=20, color='blue', edgecolor='black')\n",
    "plt.show()"
   ]
  },
  {
   "cell_type": "code",
   "execution_count": 146,
   "id": "ea9e990b-93ea-45c5-ae9a-384fd18a67e6",
   "metadata": {},
   "outputs": [
    {
     "data": {
      "text/plain": [
       "count    418.000000\n",
       "mean      29.297847\n",
       "std       13.038856\n",
       "min        0.170000\n",
       "25%       22.000000\n",
       "50%       25.000000\n",
       "75%       36.375000\n",
       "max       76.000000\n",
       "Name: Idade, dtype: float64"
      ]
     },
     "execution_count": 146,
     "metadata": {},
     "output_type": "execute_result"
    }
   ],
   "source": [
    "dados['Idade'].describe()"
   ]
  },
  {
   "cell_type": "markdown",
   "id": "41ec0bd6-82c1-4399-8f49-e9a53a1d2154",
   "metadata": {},
   "source": [
    "##### Tratando Classe"
   ]
  },
  {
   "cell_type": "code",
   "execution_count": 151,
   "id": "78f5f5f6-e783-49b0-a10e-b122e01d9eca",
   "metadata": {},
   "outputs": [
    {
     "name": "stdout",
     "output_type": "stream",
     "text": [
      "<class 'pandas.core.series.Series'>\n",
      "RangeIndex: 418 entries, 0 to 417\n",
      "Series name: Classe\n",
      "Non-Null Count  Dtype\n",
      "--------------  -----\n",
      "418 non-null    int64\n",
      "dtypes: int64(1)\n",
      "memory usage: 3.4 KB\n"
     ]
    }
   ],
   "source": [
    "#Vrificando o tipo de dado\n",
    "dados['Classe'].info()"
   ]
  },
  {
   "cell_type": "code",
   "execution_count": 153,
   "id": "f141952c-7767-47b2-bac6-f34e3aea8f5b",
   "metadata": {},
   "outputs": [
    {
     "data": {
      "text/plain": [
       "np.int64(0)"
      ]
     },
     "execution_count": 153,
     "metadata": {},
     "output_type": "execute_result"
    }
   ],
   "source": [
    "#verificando se há valores nulos\n",
    "dados['Classe'].isnull().sum()"
   ]
  },
  {
   "cell_type": "code",
   "execution_count": 157,
   "id": "607dedea-92b6-4d30-b972-b664c169bb26",
   "metadata": {},
   "outputs": [
    {
     "data": {
      "image/png": "[encoded data removed]",
      "text/plain": [
       "<Figure size 1000x600 with 1 Axes>"
      ]
     },
     "metadata": {},
     "output_type": "display_data"
    }
   ],
   "source": [
    "#Distribuição de passageiros por classe\n",
    "plt.figure(figsize=(10, 6))\n",
    "sns.countplot(x='Classe', data=dados)\n",
    "plt.title('Distribuição de Passageiros por Classe')\n",
    "plt.xlabel('Classe')\n",
    "plt.ylabel('Contagem')\n",
    "plt.show()"
   ]
  },
  {
   "cell_type": "markdown",
   "id": "545506f5-8a40-4ed6-b413-21cd1c46ecd6",
   "metadata": {},
   "source": [
    "##### Tratando Cabine"
   ]
  },
  {
   "cell_type": "code",
   "execution_count": 159,
   "id": "a92bdaa1-d3bd-4d9a-8438-05af49b53c02",
   "metadata": {},
   "outputs": [
    {
     "data": {
      "text/plain": [
       "Passageiro-ID      0\n",
       "Sobrevivente       0\n",
       "Classe             0\n",
       "Nome               0\n",
       "Sexo               0\n",
       "Idade              0\n",
       "Parentes           0\n",
       "Pais/filhos        0\n",
       "NBilhete           0\n",
       "ValorTarifa        1\n",
       "Cabine           327\n",
       "Embarque           0\n",
       "dtype: int64"
      ]
     },
     "execution_count": 159,
     "metadata": {},
     "output_type": "execute_result"
    }
   ],
   "source": [
    "#Verificando se há dados nulos \n",
    "dados.isnull().sum()"
   ]
  },
  {
   "cell_type": "code",
   "execution_count": 161,
   "id": "0631f318-3d55-4320-aa8f-68d84d88c529",
   "metadata": {},
   "outputs": [
    {
     "data": {
      "text/plain": [
       "count                  91\n",
       "unique                 76\n",
       "top       B57 B59 B63 B66\n",
       "freq                    3\n",
       "Name: Cabine, dtype: object"
      ]
     },
     "execution_count": 161,
     "metadata": {},
     "output_type": "execute_result"
    }
   ],
   "source": [
    "#Verificando a descrição dos dados nulos\n",
    "dados['Cabine'].describe()"
   ]
  },
  {
   "cell_type": "code",
   "execution_count": 169,
   "id": "68c51ba4-27a4-443a-8e5e-49eae1938e6c",
   "metadata": {},
   "outputs": [
    {
     "name": "stderr",
     "output_type": "stream",
     "text": [
      "C:\\Users\\aiane\\AppData\\Local\\Temp\\ipykernel_10784\\3633234095.py:5: SettingWithCopyWarning: \n",
      "A value is trying to be set on a copy of a slice from a DataFrame.\n",
      "Try using .loc[row_indexer,col_indexer] = value instead\n",
      "\n",
      "See the caveats in the documentation: https://pandas.pydata.org/pandas-docs/stable/user_guide/indexing.html#returning-a-view-versus-a-copy\n",
      "  filtrado['Cabine_Letra'] = filtrado['Cabine'].str[0]\n"
     ]
    },
    {
     "data": {
      "image/png": "[encoded data removed]",
      "text/plain": [
       "<Figure size 800x500 with 1 Axes>"
      ]
     },
     "metadata": {},
     "output_type": "display_data"
    }
   ],
   "source": [
    "# Filtra os dados onde 'Cabine' não é nulo\n",
    "filtrado = dados.dropna(subset=['Cabine'])\n",
    "\n",
    "# Usa apenas a primeira letra da cabine\n",
    "filtrado['Cabine_Letra'] = filtrado['Cabine'].str[0]\n",
    "\n",
    "plt.figure(figsize=(8, 5))\n",
    "sns.countplot(x=filtrado['Cabine_Letra'], hue=filtrado['Classe'], palette='viridis')\n",
    "plt.xlabel('Letra da Cabine')\n",
    "plt.ylabel('Quantidade de Passageiros')\n",
    "plt.title('Distribuição das Cabines por Classe')\n",
    "plt.legend(title='Classe')\n",
    "plt.show()"
   ]
  },
  {
   "cell_type": "code",
   "execution_count": 171,
   "id": "326671d5-4350-4890-aa0a-a490bed89b5e",
   "metadata": {},
   "outputs": [
    {
     "data": {
      "image/png": "[encoded data removed]",
      "text/plain": [
       "<Figure size 800x500 with 2 Axes>"
      ]
     },
     "metadata": {},
     "output_type": "display_data"
    }
   ],
   "source": [
    "tabela = pd.crosstab(filtrado['Cabine_Letra'], filtrado['Classe'])\n",
    "\n",
    "plt.figure(figsize=(8,5))\n",
    "sns.heatmap(tabela, annot=True, cmap='coolwarm', fmt='d')\n",
    "plt.title('Mapa de Calor - Cabine x Classe')\n",
    "plt.xlabel('Classe')\n",
    "plt.ylabel('Letra da Cabine')\n",
    "plt.show()"
   ]
  },
  {
   "cell_type": "code",
   "execution_count": 173,
   "id": "97fcfc8e-292e-4ecd-ae63-dfc9ed616c84",
   "metadata": {},
   "outputs": [],
   "source": [
    "#Como se pode observer. Cabine não irá influenciar os dados, iremos remover a coluna \n",
    "dados.drop(columns=['Cabine'], inplace=True)"
   ]
  },
  {
   "cell_type": "code",
   "execution_count": 174,
   "id": "e6641376-396a-4f3c-b1f2-e2fdb49f105e",
   "metadata": {},
   "outputs": [
    {
     "name": "stdout",
     "output_type": "stream",
     "text": [
      "<class 'pandas.core.frame.DataFrame'>\n",
      "RangeIndex: 418 entries, 0 to 417\n",
      "Data columns (total 11 columns):\n",
      " #   Column         Non-Null Count  Dtype  \n",
      "---  ------         --------------  -----  \n",
      " 0   Passageiro-ID  418 non-null    int64  \n",
      " 1   Sobrevivente   418 non-null    int64  \n",
      " 2   Classe         418 non-null    int64  \n",
      " 3   Nome           418 non-null    object \n",
      " 4   Sexo           418 non-null    object \n",
      " 5   Idade          418 non-null    float64\n",
      " 6   Parentes       418 non-null    int64  \n",
      " 7   Pais/filhos    418 non-null    int64  \n",
      " 8   NBilhete       418 non-null    object \n",
      " 9   ValorTarifa    417 non-null    float64\n",
      " 10  Embarque       418 non-null    object \n",
      "dtypes: float64(2), int64(5), object(4)\n",
      "memory usage: 36.1+ KB\n"
     ]
    }
   ],
   "source": [
    "dados.info()"
   ]
  },
  {
   "cell_type": "markdown",
   "id": "fe55536c-e500-4d4e-b416-6afdf21f4f44",
   "metadata": {},
   "source": [
    "##### Tratando Valortarifa"
   ]
  },
  {
   "cell_type": "code",
   "execution_count": 191,
   "id": "f0c242dd-67c0-45d8-a16a-d2ca7c65aa9b",
   "metadata": {},
   "outputs": [
    {
     "data": {
      "text/plain": [
       "np.int64(0)"
      ]
     },
     "execution_count": 191,
     "metadata": {},
     "output_type": "execute_result"
    }
   ],
   "source": [
    "dados['ValorTarifa'].isnull().sum()"
   ]
  },
  {
   "cell_type": "code",
   "execution_count": 180,
   "id": "b6dc302e-635c-485e-a308-335a526573be",
   "metadata": {},
   "outputs": [],
   "source": [
    "#Substiuindo o valor nulo de tarifa pela média\n",
    "dados['ValorTarifa'] = dados['ValorTarifa'].fillna(dados['ValorTarifa'].mean())"
   ]
  },
  {
   "cell_type": "code",
   "execution_count": 181,
   "id": "efcbfd3b-611d-4d95-909b-5870a1bc5aee",
   "metadata": {},
   "outputs": [
    {
     "data": {
      "text/plain": [
       "Passageiro-ID    0\n",
       "Sobrevivente     0\n",
       "Classe           0\n",
       "Nome             0\n",
       "Sexo             0\n",
       "Idade            0\n",
       "Parentes         0\n",
       "Pais/filhos      0\n",
       "NBilhete         0\n",
       "ValorTarifa      0\n",
       "Embarque         0\n",
       "dtype: int64"
      ]
     },
     "execution_count": 181,
     "metadata": {},
     "output_type": "execute_result"
    }
   ],
   "source": [
    "#verificando\n",
    "dados.isnull().sum()"
   ]
  },
  {
   "cell_type": "markdown",
   "id": "d9b0ac81-5559-41ae-a423-9153059da886",
   "metadata": {},
   "source": [
    "##### Dispersão entre idade e tarifa"
   ]
  },
  {
   "cell_type": "code",
   "execution_count": 185,
   "id": "db5a35a4-d6a6-48b0-b5b9-6c25fd8b7eca",
   "metadata": {},
   "outputs": [
    {
     "data": {
      "image/png": "[encoded data removed]",
      "text/plain": [
       "<Figure size 1000x600 with 1 Axes>"
      ]
     },
     "metadata": {},
     "output_type": "display_data"
    }
   ],
   "source": [
    "plt.figure(figsize=(10, 6))\n",
    "plt.scatter(dados['Idade'], dados['ValorTarifa'], alpha=0.5, color='blue', edgecolors='black')\n",
    "plt.title('Relação entre Idade e Valor da Tarifa')\n",
    "plt.xlabel('Idade')\n",
    "plt.ylabel('Valor da Tarifa')\n",
    "plt.show()"
   ]
  },
  {
   "cell_type": "code",
   "execution_count": null,
   "id": "a46599f0-9384-41a0-87cf-7706b1863884",
   "metadata": {},
   "outputs": [],
   "source": []
  }
 ],
 "metadata": {
  "kernelspec": {
   "display_name": "Python 3 (ipykernel)",
   "language": "python",
   "name": "python3"
  },
  "language_info": {
   "codemirror_mode": {
    "name": "ipython",
    "version": 3
   },
   "file_extension": ".py",
   "mimetype": "text/x-python",
   "name": "python",
   "nbconvert_exporter": "python",
   "pygments_lexer": "ipython3",
   "version": "3.12.5"
  }
 },
 "nbformat": 4,
 "nbformat_minor": 5
}
